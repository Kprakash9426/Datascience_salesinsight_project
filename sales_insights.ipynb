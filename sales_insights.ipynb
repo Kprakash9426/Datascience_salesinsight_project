{
 "cells": [
  {
   "cell_type": "code",
   "execution_count": 2,
   "id": "7787e898-72fb-4a78-b6eb-17b564d63b51",
   "metadata": {},
   "outputs": [],
   "source": [
    "\"\"\"imnporting Libaries\"\"\"\n",
    "import pandas as pd\n",
    "import numpy as np\n",
    "\"\"\"Loading data set\"\"\"\n",
    "df=pd.read_csv('testing_hypo.csv')"
   ]
  },
  {
   "cell_type": "code",
   "execution_count": 3,
   "id": "c5478170-c846-414c-b4e5-1f06e5fc1f62",
   "metadata": {},
   "outputs": [
    {
     "data": {
      "text/html": [
       "<div>\n",
       "<style scoped>\n",
       "    .dataframe tbody tr th:only-of-type {\n",
       "        vertical-align: middle;\n",
       "    }\n",
       "\n",
       "    .dataframe tbody tr th {\n",
       "        vertical-align: top;\n",
       "    }\n",
       "\n",
       "    .dataframe thead th {\n",
       "        text-align: right;\n",
       "    }\n",
       "</style>\n",
       "<table border=\"1\" class=\"dataframe\">\n",
       "  <thead>\n",
       "    <tr style=\"text-align: right;\">\n",
       "      <th></th>\n",
       "      <th>Row ID</th>\n",
       "      <th>Order ID</th>\n",
       "      <th>Order Date</th>\n",
       "      <th>Ship Date</th>\n",
       "      <th>Ship Mode</th>\n",
       "      <th>Customer ID</th>\n",
       "      <th>Customer Name</th>\n",
       "      <th>Segment</th>\n",
       "      <th>Country/Region</th>\n",
       "      <th>City</th>\n",
       "      <th>...</th>\n",
       "      <th>Postal Code</th>\n",
       "      <th>Region</th>\n",
       "      <th>Product ID</th>\n",
       "      <th>Category</th>\n",
       "      <th>Sub-Category</th>\n",
       "      <th>Product Name</th>\n",
       "      <th>Sales</th>\n",
       "      <th>Quantity</th>\n",
       "      <th>Discount</th>\n",
       "      <th>Profit</th>\n",
       "    </tr>\n",
       "  </thead>\n",
       "  <tbody>\n",
       "    <tr>\n",
       "      <th>0</th>\n",
       "      <td>1</td>\n",
       "      <td>CA-2020-152156</td>\n",
       "      <td>08-11-2020</td>\n",
       "      <td>11-11-2020</td>\n",
       "      <td>Second Class</td>\n",
       "      <td>CG-12520</td>\n",
       "      <td>Claire Gute</td>\n",
       "      <td>Consumer</td>\n",
       "      <td>United States</td>\n",
       "      <td>Henderson</td>\n",
       "      <td>...</td>\n",
       "      <td>42420</td>\n",
       "      <td>South</td>\n",
       "      <td>FUR-BO-10001798</td>\n",
       "      <td>Furniture</td>\n",
       "      <td>Bookcases</td>\n",
       "      <td>Bush Somerset Collection Bookcase</td>\n",
       "      <td>261.9600</td>\n",
       "      <td>2</td>\n",
       "      <td>0.00</td>\n",
       "      <td>41.9136</td>\n",
       "    </tr>\n",
       "    <tr>\n",
       "      <th>1</th>\n",
       "      <td>2</td>\n",
       "      <td>CA-2020-152156</td>\n",
       "      <td>08-11-2020</td>\n",
       "      <td>11-11-2020</td>\n",
       "      <td>Second Class</td>\n",
       "      <td>CG-12520</td>\n",
       "      <td>Claire Gute</td>\n",
       "      <td>Consumer</td>\n",
       "      <td>United States</td>\n",
       "      <td>Henderson</td>\n",
       "      <td>...</td>\n",
       "      <td>42420</td>\n",
       "      <td>South</td>\n",
       "      <td>FUR-CH-10000454</td>\n",
       "      <td>Furniture</td>\n",
       "      <td>Chairs</td>\n",
       "      <td>Hon Deluxe Fabric Upholstered Stacking Chairs,...</td>\n",
       "      <td>731.9400</td>\n",
       "      <td>3</td>\n",
       "      <td>0.00</td>\n",
       "      <td>219.5820</td>\n",
       "    </tr>\n",
       "    <tr>\n",
       "      <th>2</th>\n",
       "      <td>3</td>\n",
       "      <td>CA-2020-138688</td>\n",
       "      <td>12-06-2020</td>\n",
       "      <td>16-06-2020</td>\n",
       "      <td>Second Class</td>\n",
       "      <td>DV-13045</td>\n",
       "      <td>Darrin Van Huff</td>\n",
       "      <td>Corporate</td>\n",
       "      <td>United States</td>\n",
       "      <td>Los Angeles</td>\n",
       "      <td>...</td>\n",
       "      <td>90036</td>\n",
       "      <td>West</td>\n",
       "      <td>OFF-LA-10000240</td>\n",
       "      <td>Office Supplies</td>\n",
       "      <td>Labels</td>\n",
       "      <td>Self-Adhesive Address Labels for Typewriters b...</td>\n",
       "      <td>14.6200</td>\n",
       "      <td>2</td>\n",
       "      <td>0.00</td>\n",
       "      <td>6.8714</td>\n",
       "    </tr>\n",
       "    <tr>\n",
       "      <th>3</th>\n",
       "      <td>4</td>\n",
       "      <td>US-2019-108966</td>\n",
       "      <td>11-10-2019</td>\n",
       "      <td>18-10-2019</td>\n",
       "      <td>Standard Class</td>\n",
       "      <td>SO-20335</td>\n",
       "      <td>Sean O'Donnell</td>\n",
       "      <td>Consumer</td>\n",
       "      <td>United States</td>\n",
       "      <td>Fort Lauderdale</td>\n",
       "      <td>...</td>\n",
       "      <td>33311</td>\n",
       "      <td>South</td>\n",
       "      <td>FUR-TA-10000577</td>\n",
       "      <td>Furniture</td>\n",
       "      <td>Tables</td>\n",
       "      <td>Bretford CR4500 Series Slim Rectangular Table</td>\n",
       "      <td>957.5775</td>\n",
       "      <td>5</td>\n",
       "      <td>0.45</td>\n",
       "      <td>-383.0310</td>\n",
       "    </tr>\n",
       "    <tr>\n",
       "      <th>4</th>\n",
       "      <td>5</td>\n",
       "      <td>US-2019-108966</td>\n",
       "      <td>11-10-2019</td>\n",
       "      <td>18-10-2019</td>\n",
       "      <td>Standard Class</td>\n",
       "      <td>SO-20335</td>\n",
       "      <td>Sean O'Donnell</td>\n",
       "      <td>Consumer</td>\n",
       "      <td>United States</td>\n",
       "      <td>Fort Lauderdale</td>\n",
       "      <td>...</td>\n",
       "      <td>33311</td>\n",
       "      <td>South</td>\n",
       "      <td>OFF-ST-10000760</td>\n",
       "      <td>Office Supplies</td>\n",
       "      <td>Storage</td>\n",
       "      <td>Eldon Fold 'N Roll Cart System</td>\n",
       "      <td>22.3680</td>\n",
       "      <td>2</td>\n",
       "      <td>0.20</td>\n",
       "      <td>2.5164</td>\n",
       "    </tr>\n",
       "  </tbody>\n",
       "</table>\n",
       "<p>5 rows × 21 columns</p>\n",
       "</div>"
      ],
      "text/plain": [
       "   Row ID        Order ID  Order Date   Ship Date       Ship Mode Customer ID  \\\n",
       "0       1  CA-2020-152156  08-11-2020  11-11-2020    Second Class    CG-12520   \n",
       "1       2  CA-2020-152156  08-11-2020  11-11-2020    Second Class    CG-12520   \n",
       "2       3  CA-2020-138688  12-06-2020  16-06-2020    Second Class    DV-13045   \n",
       "3       4  US-2019-108966  11-10-2019  18-10-2019  Standard Class    SO-20335   \n",
       "4       5  US-2019-108966  11-10-2019  18-10-2019  Standard Class    SO-20335   \n",
       "\n",
       "     Customer Name    Segment Country/Region             City  ...  \\\n",
       "0      Claire Gute   Consumer  United States        Henderson  ...   \n",
       "1      Claire Gute   Consumer  United States        Henderson  ...   \n",
       "2  Darrin Van Huff  Corporate  United States      Los Angeles  ...   \n",
       "3   Sean O'Donnell   Consumer  United States  Fort Lauderdale  ...   \n",
       "4   Sean O'Donnell   Consumer  United States  Fort Lauderdale  ...   \n",
       "\n",
       "  Postal Code  Region       Product ID         Category Sub-Category  \\\n",
       "0       42420   South  FUR-BO-10001798        Furniture    Bookcases   \n",
       "1       42420   South  FUR-CH-10000454        Furniture       Chairs   \n",
       "2       90036    West  OFF-LA-10000240  Office Supplies       Labels   \n",
       "3       33311   South  FUR-TA-10000577        Furniture       Tables   \n",
       "4       33311   South  OFF-ST-10000760  Office Supplies      Storage   \n",
       "\n",
       "                                        Product Name     Sales  Quantity  \\\n",
       "0                  Bush Somerset Collection Bookcase  261.9600         2   \n",
       "1  Hon Deluxe Fabric Upholstered Stacking Chairs,...  731.9400         3   \n",
       "2  Self-Adhesive Address Labels for Typewriters b...   14.6200         2   \n",
       "3      Bretford CR4500 Series Slim Rectangular Table  957.5775         5   \n",
       "4                     Eldon Fold 'N Roll Cart System   22.3680         2   \n",
       "\n",
       "   Discount    Profit  \n",
       "0      0.00   41.9136  \n",
       "1      0.00  219.5820  \n",
       "2      0.00    6.8714  \n",
       "3      0.45 -383.0310  \n",
       "4      0.20    2.5164  \n",
       "\n",
       "[5 rows x 21 columns]"
      ]
     },
     "execution_count": 3,
     "metadata": {},
     "output_type": "execute_result"
    }
   ],
   "source": [
    "df.head()"
   ]
  },
  {
   "cell_type": "code",
   "execution_count": 4,
   "id": "3c7d26e9-d1a4-4b93-a240-031e2e00afe8",
   "metadata": {},
   "outputs": [
    {
     "data": {
      "text/plain": [
       "Index(['Row ID', 'Order ID', 'Order Date', 'Ship Date', 'Ship Mode',\n",
       "       'Customer ID', 'Customer Name', 'Segment', 'Country/Region', 'City',\n",
       "       'State', 'Postal Code', 'Region', 'Product ID', 'Category',\n",
       "       'Sub-Category', 'Product Name', 'Sales', 'Quantity', 'Discount',\n",
       "       'Profit'],\n",
       "      dtype='object')"
      ]
     },
     "execution_count": 4,
     "metadata": {},
     "output_type": "execute_result"
    }
   ],
   "source": [
    "\"\"\"used for getting columns names\"\"\"\n",
    "df.columns"
   ]
  },
  {
   "cell_type": "code",
   "execution_count": 5,
   "id": "4773613b-7efc-4c59-92d6-fcea15580bd3",
   "metadata": {},
   "outputs": [
    {
     "name": "stdout",
     "output_type": "stream",
     "text": [
      "<class 'pandas.core.frame.DataFrame'>\n",
      "RangeIndex: 1015 entries, 0 to 1014\n",
      "Data columns (total 21 columns):\n",
      " #   Column          Non-Null Count  Dtype  \n",
      "---  ------          --------------  -----  \n",
      " 0   Row ID          1015 non-null   int64  \n",
      " 1   Order ID        1015 non-null   object \n",
      " 2   Order Date      1015 non-null   object \n",
      " 3   Ship Date       1015 non-null   object \n",
      " 4   Ship Mode       1015 non-null   object \n",
      " 5   Customer ID     1015 non-null   object \n",
      " 6   Customer Name   1015 non-null   object \n",
      " 7   Segment         1015 non-null   object \n",
      " 8   Country/Region  1015 non-null   object \n",
      " 9   City            1015 non-null   object \n",
      " 10  State           1015 non-null   object \n",
      " 11  Postal Code     1015 non-null   int64  \n",
      " 12  Region          1015 non-null   object \n",
      " 13  Product ID      1015 non-null   object \n",
      " 14  Category        1015 non-null   object \n",
      " 15  Sub-Category    1015 non-null   object \n",
      " 16  Product Name    1015 non-null   object \n",
      " 17  Sales           1015 non-null   float64\n",
      " 18  Quantity        1015 non-null   int64  \n",
      " 19  Discount        1015 non-null   float64\n",
      " 20  Profit          1015 non-null   float64\n",
      "dtypes: float64(3), int64(3), object(15)\n",
      "memory usage: 166.7+ KB\n"
     ]
    }
   ],
   "source": [
    "df.info() #pandas methos use to get the numbers of colums,column names ,non-null count of each columns and Dtype,memory usage"
   ]
  },
  {
   "cell_type": "code",
   "execution_count": 6,
   "id": "9a3292ca-c93d-4b10-bc2c-173371d03192",
   "metadata": {},
   "outputs": [
    {
     "data": {
      "text/plain": [
       "Row ID            0\n",
       "Order ID          0\n",
       "Order Date        0\n",
       "Ship Date         0\n",
       "Ship Mode         0\n",
       "Customer ID       0\n",
       "Customer Name     0\n",
       "Segment           0\n",
       "Country/Region    0\n",
       "City              0\n",
       "State             0\n",
       "Postal Code       0\n",
       "Region            0\n",
       "Product ID        0\n",
       "Category          0\n",
       "Sub-Category      0\n",
       "Product Name      0\n",
       "Sales             0\n",
       "Quantity          0\n",
       "Discount          0\n",
       "Profit            0\n",
       "dtype: int64"
      ]
     },
     "execution_count": 6,
     "metadata": {},
     "output_type": "execute_result"
    }
   ],
   "source": [
    "df.isnull().sum() #isnull with sum  method in pandas is used to get only columns name and null count"
   ]
  },
  {
   "cell_type": "code",
   "execution_count": 7,
   "id": "e1b5c223-4635-442b-95d8-46d80c5bd9d3",
   "metadata": {},
   "outputs": [
    {
     "data": {
      "text/html": [
       "<div>\n",
       "<style scoped>\n",
       "    .dataframe tbody tr th:only-of-type {\n",
       "        vertical-align: middle;\n",
       "    }\n",
       "\n",
       "    .dataframe tbody tr th {\n",
       "        vertical-align: top;\n",
       "    }\n",
       "\n",
       "    .dataframe thead th {\n",
       "        text-align: right;\n",
       "    }\n",
       "</style>\n",
       "<table border=\"1\" class=\"dataframe\">\n",
       "  <thead>\n",
       "    <tr style=\"text-align: right;\">\n",
       "      <th></th>\n",
       "      <th>Row ID</th>\n",
       "      <th>Postal Code</th>\n",
       "      <th>Sales</th>\n",
       "      <th>Quantity</th>\n",
       "      <th>Discount</th>\n",
       "      <th>Profit</th>\n",
       "    </tr>\n",
       "  </thead>\n",
       "  <tbody>\n",
       "    <tr>\n",
       "      <th>count</th>\n",
       "      <td>1015.000000</td>\n",
       "      <td>1015.00000</td>\n",
       "      <td>1015.000000</td>\n",
       "      <td>1015.000000</td>\n",
       "      <td>1015.000000</td>\n",
       "      <td>1015.000000</td>\n",
       "    </tr>\n",
       "    <tr>\n",
       "      <th>mean</th>\n",
       "      <td>508.000000</td>\n",
       "      <td>53713.97734</td>\n",
       "      <td>243.729843</td>\n",
       "      <td>3.806897</td>\n",
       "      <td>0.161951</td>\n",
       "      <td>19.573488</td>\n",
       "    </tr>\n",
       "    <tr>\n",
       "      <th>std</th>\n",
       "      <td>293.149564</td>\n",
       "      <td>31596.01790</td>\n",
       "      <td>597.519009</td>\n",
       "      <td>2.281940</td>\n",
       "      <td>0.208328</td>\n",
       "      <td>225.628198</td>\n",
       "    </tr>\n",
       "    <tr>\n",
       "      <th>min</th>\n",
       "      <td>1.000000</td>\n",
       "      <td>1841.00000</td>\n",
       "      <td>1.080000</td>\n",
       "      <td>1.000000</td>\n",
       "      <td>0.000000</td>\n",
       "      <td>-3839.990400</td>\n",
       "    </tr>\n",
       "    <tr>\n",
       "      <th>25%</th>\n",
       "      <td>254.500000</td>\n",
       "      <td>19805.00000</td>\n",
       "      <td>18.444000</td>\n",
       "      <td>2.000000</td>\n",
       "      <td>0.000000</td>\n",
       "      <td>1.865800</td>\n",
       "    </tr>\n",
       "    <tr>\n",
       "      <th>50%</th>\n",
       "      <td>508.000000</td>\n",
       "      <td>52601.00000</td>\n",
       "      <td>55.992000</td>\n",
       "      <td>3.000000</td>\n",
       "      <td>0.200000</td>\n",
       "      <td>8.763000</td>\n",
       "    </tr>\n",
       "    <tr>\n",
       "      <th>75%</th>\n",
       "      <td>761.500000</td>\n",
       "      <td>85219.00000</td>\n",
       "      <td>213.297500</td>\n",
       "      <td>5.000000</td>\n",
       "      <td>0.200000</td>\n",
       "      <td>27.398700</td>\n",
       "    </tr>\n",
       "    <tr>\n",
       "      <th>max</th>\n",
       "      <td>1015.000000</td>\n",
       "      <td>98661.00000</td>\n",
       "      <td>8159.952000</td>\n",
       "      <td>14.000000</td>\n",
       "      <td>0.800000</td>\n",
       "      <td>3177.475000</td>\n",
       "    </tr>\n",
       "  </tbody>\n",
       "</table>\n",
       "</div>"
      ],
      "text/plain": [
       "            Row ID  Postal Code        Sales     Quantity     Discount  \\\n",
       "count  1015.000000   1015.00000  1015.000000  1015.000000  1015.000000   \n",
       "mean    508.000000  53713.97734   243.729843     3.806897     0.161951   \n",
       "std     293.149564  31596.01790   597.519009     2.281940     0.208328   \n",
       "min       1.000000   1841.00000     1.080000     1.000000     0.000000   \n",
       "25%     254.500000  19805.00000    18.444000     2.000000     0.000000   \n",
       "50%     508.000000  52601.00000    55.992000     3.000000     0.200000   \n",
       "75%     761.500000  85219.00000   213.297500     5.000000     0.200000   \n",
       "max    1015.000000  98661.00000  8159.952000    14.000000     0.800000   \n",
       "\n",
       "            Profit  \n",
       "count  1015.000000  \n",
       "mean     19.573488  \n",
       "std     225.628198  \n",
       "min   -3839.990400  \n",
       "25%       1.865800  \n",
       "50%       8.763000  \n",
       "75%      27.398700  \n",
       "max    3177.475000  "
      ]
     },
     "execution_count": 7,
     "metadata": {},
     "output_type": "execute_result"
    }
   ],
   "source": [
    "df.describe() # describe method use to get all numerical columns and centeral tendency(count.mean,std--standard deviation),min,max,interquaratlize percentage"
   ]
  },
  {
   "cell_type": "code",
   "execution_count": 8,
   "id": "02d4873f-b88e-433e-a2a2-c1d949c474a2",
   "metadata": {},
   "outputs": [
    {
     "data": {
      "text/plain": [
       "Row ID            1015\n",
       "Order ID           489\n",
       "Order Date         380\n",
       "Ship Date          400\n",
       "Ship Mode            4\n",
       "Customer ID        366\n",
       "Customer Name      366\n",
       "Segment              3\n",
       "Country/Region       1\n",
       "City               176\n",
       "State               40\n",
       "Postal Code        225\n",
       "Region               4\n",
       "Product ID         770\n",
       "Category             3\n",
       "Sub-Category        17\n",
       "Product Name       769\n",
       "Sales              915\n",
       "Quantity            14\n",
       "Discount            12\n",
       "Profit             952\n",
       "dtype: int64"
      ]
     },
     "execution_count": 8,
     "metadata": {},
     "output_type": "execute_result"
    }
   ],
   "source": [
    "df.nunique() # pandas method use to get number unique columns"
   ]
  },
  {
   "cell_type": "code",
   "execution_count": 9,
   "id": "1ce8b671-fafd-4cfd-b0eb-e32304b17c8c",
   "metadata": {},
   "outputs": [
    {
     "data": {
      "text/plain": [
       "0"
      ]
     },
     "execution_count": 9,
     "metadata": {},
     "output_type": "execute_result"
    }
   ],
   "source": [
    "df.duplicated().sum() # no duplicated values"
   ]
  },
  {
   "cell_type": "code",
   "execution_count": 61,
   "id": "0ad05cba-22d3-42a4-9d3b-1bd4efec8ad5",
   "metadata": {},
   "outputs": [
    {
     "data": {
      "text/plain": [
       "(1015, 21)"
      ]
     },
     "execution_count": 61,
     "metadata": {},
     "output_type": "execute_result"
    }
   ],
   "source": [
    "df.shape  # define number of rows and columns"
   ]
  },
  {
   "cell_type": "code",
   "execution_count": 10,
   "id": "4ca99e8c-a549-4cf0-ab31-596e61d565dc",
   "metadata": {},
   "outputs": [],
   "source": [
    "\"\"\"total_sales by Category \"\"\"\n",
    "total_sales_Category=df.groupby('Category')['Sales'].sum()"
   ]
  },
  {
   "cell_type": "code",
   "execution_count": 11,
   "id": "d54ba181-f1b0-45de-b5a4-3df7f2d22ecc",
   "metadata": {},
   "outputs": [
    {
     "data": {
      "text/plain": [
       "Category\n",
       "Furniture          82393.7009\n",
       "Office Supplies    68987.0140\n",
       "Technology         96005.0760\n",
       "Name: Sales, dtype: float64"
      ]
     },
     "execution_count": 11,
     "metadata": {},
     "output_type": "execute_result"
    }
   ],
   "source": [
    "total_sales_Category"
   ]
  },
  {
   "cell_type": "code",
   "execution_count": 27,
   "id": "afa1098d-f23e-4413-98b8-10f8193f0fa2",
   "metadata": {},
   "outputs": [],
   "source": [
    "\"\"\"total_sales by city\"\"\"\n",
    "total_sales_city=df.groupby('City')['Sales'].sum().reset_index()"
   ]
  },
  {
   "cell_type": "code",
   "execution_count": 28,
   "id": "587f99a5-9f86-4292-b9c5-6167be821592",
   "metadata": {},
   "outputs": [
    {
     "data": {
      "text/html": [
       "<div>\n",
       "<style scoped>\n",
       "    .dataframe tbody tr th:only-of-type {\n",
       "        vertical-align: middle;\n",
       "    }\n",
       "\n",
       "    .dataframe tbody tr th {\n",
       "        vertical-align: top;\n",
       "    }\n",
       "\n",
       "    .dataframe thead th {\n",
       "        text-align: right;\n",
       "    }\n",
       "</style>\n",
       "<table border=\"1\" class=\"dataframe\">\n",
       "  <thead>\n",
       "    <tr style=\"text-align: right;\">\n",
       "      <th></th>\n",
       "      <th>City</th>\n",
       "      <th>Sales</th>\n",
       "    </tr>\n",
       "  </thead>\n",
       "  <tbody>\n",
       "    <tr>\n",
       "      <th>0</th>\n",
       "      <td>Akron</td>\n",
       "      <td>971.5160</td>\n",
       "    </tr>\n",
       "    <tr>\n",
       "      <th>1</th>\n",
       "      <td>Alexandria</td>\n",
       "      <td>24.5600</td>\n",
       "    </tr>\n",
       "    <tr>\n",
       "      <th>2</th>\n",
       "      <td>Amarillo</td>\n",
       "      <td>205.3328</td>\n",
       "    </tr>\n",
       "    <tr>\n",
       "      <th>3</th>\n",
       "      <td>Anaheim</td>\n",
       "      <td>1295.7800</td>\n",
       "    </tr>\n",
       "    <tr>\n",
       "      <th>4</th>\n",
       "      <td>Arlington</td>\n",
       "      <td>3291.8710</td>\n",
       "    </tr>\n",
       "    <tr>\n",
       "      <th>...</th>\n",
       "      <td>...</td>\n",
       "      <td>...</td>\n",
       "    </tr>\n",
       "    <tr>\n",
       "      <th>171</th>\n",
       "      <td>West Jordan</td>\n",
       "      <td>55.5000</td>\n",
       "    </tr>\n",
       "    <tr>\n",
       "      <th>172</th>\n",
       "      <td>Westfield</td>\n",
       "      <td>46.2600</td>\n",
       "    </tr>\n",
       "    <tr>\n",
       "      <th>173</th>\n",
       "      <td>Westland</td>\n",
       "      <td>211.9600</td>\n",
       "    </tr>\n",
       "    <tr>\n",
       "      <th>174</th>\n",
       "      <td>Whittier</td>\n",
       "      <td>444.7680</td>\n",
       "    </tr>\n",
       "    <tr>\n",
       "      <th>175</th>\n",
       "      <td>Wilmington</td>\n",
       "      <td>549.3100</td>\n",
       "    </tr>\n",
       "  </tbody>\n",
       "</table>\n",
       "<p>176 rows × 2 columns</p>\n",
       "</div>"
      ],
      "text/plain": [
       "            City      Sales\n",
       "0          Akron   971.5160\n",
       "1     Alexandria    24.5600\n",
       "2       Amarillo   205.3328\n",
       "3        Anaheim  1295.7800\n",
       "4      Arlington  3291.8710\n",
       "..           ...        ...\n",
       "171  West Jordan    55.5000\n",
       "172    Westfield    46.2600\n",
       "173     Westland   211.9600\n",
       "174     Whittier   444.7680\n",
       "175   Wilmington   549.3100\n",
       "\n",
       "[176 rows x 2 columns]"
      ]
     },
     "execution_count": 28,
     "metadata": {},
     "output_type": "execute_result"
    }
   ],
   "source": [
    "total_sales_city"
   ]
  },
  {
   "cell_type": "code",
   "execution_count": 34,
   "id": "44912e6f-193e-40f7-9ebf-1a5102293d19",
   "metadata": {},
   "outputs": [],
   "source": [
    "top10_total_sales_city = total_sales_city.sort_values('Sales', ascending=False).head(10)"
   ]
  },
  {
   "cell_type": "code",
   "execution_count": 35,
   "id": "129cf8ba-1f7a-4861-bbfe-999be8fc01bc",
   "metadata": {},
   "outputs": [
    {
     "data": {
      "text/html": [
       "<div>\n",
       "<style scoped>\n",
       "    .dataframe tbody tr th:only-of-type {\n",
       "        vertical-align: middle;\n",
       "    }\n",
       "\n",
       "    .dataframe tbody tr th {\n",
       "        vertical-align: top;\n",
       "    }\n",
       "\n",
       "    .dataframe thead th {\n",
       "        text-align: right;\n",
       "    }\n",
       "</style>\n",
       "<table border=\"1\" class=\"dataframe\">\n",
       "  <thead>\n",
       "    <tr style=\"text-align: right;\">\n",
       "      <th></th>\n",
       "      <th>City</th>\n",
       "      <th>Sales</th>\n",
       "    </tr>\n",
       "  </thead>\n",
       "  <tbody>\n",
       "    <tr>\n",
       "      <th>112</th>\n",
       "      <td>New York City</td>\n",
       "      <td>27419.2460</td>\n",
       "    </tr>\n",
       "    <tr>\n",
       "      <th>127</th>\n",
       "      <td>Philadelphia</td>\n",
       "      <td>16484.9910</td>\n",
       "    </tr>\n",
       "    <tr>\n",
       "      <th>147</th>\n",
       "      <td>San Francisco</td>\n",
       "      <td>12418.4010</td>\n",
       "    </tr>\n",
       "    <tr>\n",
       "      <th>88</th>\n",
       "      <td>Los Angeles</td>\n",
       "      <td>11865.8050</td>\n",
       "    </tr>\n",
       "    <tr>\n",
       "      <th>68</th>\n",
       "      <td>Houston</td>\n",
       "      <td>11755.6568</td>\n",
       "    </tr>\n",
       "    <tr>\n",
       "      <th>145</th>\n",
       "      <td>San Antonio</td>\n",
       "      <td>11452.9980</td>\n",
       "    </tr>\n",
       "    <tr>\n",
       "      <th>17</th>\n",
       "      <td>Burlington</td>\n",
       "      <td>8212.1700</td>\n",
       "    </tr>\n",
       "    <tr>\n",
       "      <th>24</th>\n",
       "      <td>Chicago</td>\n",
       "      <td>7751.6450</td>\n",
       "    </tr>\n",
       "    <tr>\n",
       "      <th>152</th>\n",
       "      <td>Seattle</td>\n",
       "      <td>7373.4940</td>\n",
       "    </tr>\n",
       "    <tr>\n",
       "      <th>38</th>\n",
       "      <td>Detroit</td>\n",
       "      <td>7200.7420</td>\n",
       "    </tr>\n",
       "  </tbody>\n",
       "</table>\n",
       "</div>"
      ],
      "text/plain": [
       "              City       Sales\n",
       "112  New York City  27419.2460\n",
       "127   Philadelphia  16484.9910\n",
       "147  San Francisco  12418.4010\n",
       "88     Los Angeles  11865.8050\n",
       "68         Houston  11755.6568\n",
       "145    San Antonio  11452.9980\n",
       "17      Burlington   8212.1700\n",
       "24         Chicago   7751.6450\n",
       "152        Seattle   7373.4940\n",
       "38         Detroit   7200.7420"
      ]
     },
     "execution_count": 35,
     "metadata": {},
     "output_type": "execute_result"
    }
   ],
   "source": [
    "top10_total_sales_city"
   ]
  },
  {
   "cell_type": "code",
   "execution_count": 44,
   "id": "e0fe2655-00bc-4238-8094-e19ce82b9f8d",
   "metadata": {},
   "outputs": [
    {
     "data": {
      "image/png": "[encoded data removed]",
      "text/plain": [
       "<Figure size 640x480 with 1 Axes>"
      ]
     },
     "metadata": {},
     "output_type": "display_data"
    }
   ],
   "source": [
    "import matplotlib.pyplot as plt\n",
    "import seaborn as sns\n",
    "sns.barplot(data=top10_total_sales_city,x='City',y='Sales')\n",
    "plt.axis('tight')\n",
    "plt.xticks(rotation=45)\n",
    "plt.show()"
   ]
  },
  {
   "cell_type": "code",
   "execution_count": 50,
   "id": "312ffc1a-4551-42f5-8e43-ea2e0daef97a",
   "metadata": {},
   "outputs": [],
   "source": [
    "citywise_discount=df.groupby('City')['Discount'].sum().reset_index()"
   ]
  },
  {
   "cell_type": "code",
   "execution_count": 56,
   "id": "bce91408-5b3f-4b52-ae53-5ab779069f74",
   "metadata": {},
   "outputs": [],
   "source": [
    "top10_citywise_discount=citywise_discount.sort_values('Discount',ascending=False).head(10)"
   ]
  },
  {
   "cell_type": "code",
   "execution_count": 59,
   "id": "0d11439f-99b0-4ba3-a453-dd8968433cf7",
   "metadata": {},
   "outputs": [
    {
     "data": {
      "image/png": "[encoded data removed]",
      "text/plain": [
       "<Figure size 640x480 with 1 Axes>"
      ]
     },
     "metadata": {},
     "output_type": "display_data"
    }
   ],
   "source": [
    "sns.barplot(data=top10_citywise_discount,x='City',y='Discount')\n",
    "plt.title('top10_citywise_discount')\n",
    "plt.axis('tight')\n",
    "plt.xticks(rotation=45)\n",
    "plt.show()"
   ]
  },
  {
   "cell_type": "code",
   "execution_count": null,
   "id": "bcd83857-34f8-4831-bfed-88873b2bc543",
   "metadata": {},
   "outputs": [],
   "source": [
    "sns.pie"
   ]
  }
 ],
 "metadata": {
  "kernelspec": {
   "display_name": "Python 3 (ipykernel)",
   "language": "python",
   "name": "python3"
  },
  "language_info": {
   "codemirror_mode": {
    "name": "ipython",
    "version": 3
   },
   "file_extension": ".py",
   "mimetype": "text/x-python",
   "name": "python",
   "nbconvert_exporter": "python",
   "pygments_lexer": "ipython3",
   "version": "3.12.7"
  }
 },
 "nbformat": 4,
 "nbformat_minor": 5
}
